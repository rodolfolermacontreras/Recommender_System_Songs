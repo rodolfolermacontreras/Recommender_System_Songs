{
 "cells": [
  {
   "cell_type": "code",
   "execution_count": 1,
   "metadata": {
    "executionInfo": {
     "elapsed": 2622,
     "status": "ok",
     "timestamp": 1699497596455,
     "user": {
      "displayName": "Junbo Wang",
      "userId": "14682640775352485098"
     },
     "user_tz": 300
    },
    "id": "2MiS9YMvckgh"
   },
   "outputs": [],
   "source": [
    "import os\n",
    "import pandas as pd\n",
    "import numpy as np\n",
    "import json\n",
    "import spotipy\n",
    "import spotipy.oauth2 as oauth2\n",
    "from spotipy.oauth2 import SpotifyOAuth,SpotifyClientCredentials\n",
    "import yaml\n",
    "import re\n",
    "from tqdm import tqdm\n",
    "import multiprocessing as mp\n",
    "import time\n",
    "import random\n",
    "import datetime\n",
    "import pickle\n",
    "from sklearn.feature_extraction.text import TfidfVectorizer\n",
    "from sklearn.metrics.pairwise import cosine_similarity\n",
    "from sklearn.preprocessing import MinMaxScaler\n",
    "import matplotlib.pyplot as plt\n",
    "from skimage import io\n",
    "from sklearn.decomposition import PCA"
   ]
  },
  {
   "cell_type": "code",
   "execution_count": 2,
   "metadata": {},
   "outputs": [],
   "source": [
    "df = pd.read_csv(\"./data/1M_processed.csv\")"
   ]
  },
  {
   "cell_type": "code",
   "execution_count": 3,
   "metadata": {},
   "outputs": [
    {
     "data": {
      "text/html": [
       "<div>\n",
       "<style scoped>\n",
       "    .dataframe tbody tr th:only-of-type {\n",
       "        vertical-align: middle;\n",
       "    }\n",
       "\n",
       "    .dataframe tbody tr th {\n",
       "        vertical-align: top;\n",
       "    }\n",
       "\n",
       "    .dataframe thead th {\n",
       "        text-align: right;\n",
       "    }\n",
       "</style>\n",
       "<table border=\"1\" class=\"dataframe\">\n",
       "  <thead>\n",
       "    <tr style=\"text-align: right;\">\n",
       "      <th></th>\n",
       "      <th>track_uri</th>\n",
       "      <th>artist_uri</th>\n",
       "      <th>album_uri</th>\n",
       "      <th>danceability</th>\n",
       "      <th>energy</th>\n",
       "      <th>key</th>\n",
       "      <th>loudness</th>\n",
       "      <th>mode</th>\n",
       "      <th>speechiness</th>\n",
       "      <th>acousticness</th>\n",
       "      <th>instrumentalness</th>\n",
       "      <th>liveness</th>\n",
       "      <th>valence</th>\n",
       "      <th>tempo</th>\n",
       "      <th>duration_ms</th>\n",
       "      <th>time_signature</th>\n",
       "      <th>Track_release_date</th>\n",
       "      <th>Track_pop</th>\n",
       "      <th>Artist_pop</th>\n",
       "      <th>Artist_genres</th>\n",
       "    </tr>\n",
       "  </thead>\n",
       "  <tbody>\n",
       "    <tr>\n",
       "      <th>0</th>\n",
       "      <td>2THyGFz2KFSnnjilRrTDIM</td>\n",
       "      <td>2wIVse2owClT7go1WT98tk</td>\n",
       "      <td>5eNmebFdSZTcqExwoijGOO</td>\n",
       "      <td>0.713</td>\n",
       "      <td>0.6320</td>\n",
       "      <td>4.0</td>\n",
       "      <td>-7.25</td>\n",
       "      <td>0.0</td>\n",
       "      <td>0.1140</td>\n",
       "      <td>0.00822</td>\n",
       "      <td>0.000017</td>\n",
       "      <td>0.0978</td>\n",
       "      <td>0.474</td>\n",
       "      <td>99.8</td>\n",
       "      <td>210600.0</td>\n",
       "      <td>4.0</td>\n",
       "      <td>40</td>\n",
       "      <td>0</td>\n",
       "      <td>13</td>\n",
       "      <td>dance_pop hip_hop hip_pop neo_soul pop_rap r&amp;b...</td>\n",
       "    </tr>\n",
       "    <tr>\n",
       "      <th>1</th>\n",
       "      <td>3BgwOI1jT8l6dFeAiESJVM</td>\n",
       "      <td>2wIVse2owClT7go1WT98tk</td>\n",
       "      <td>6UkdyvPElK6JDkyeRClbI2</td>\n",
       "      <td>0.748</td>\n",
       "      <td>0.0887</td>\n",
       "      <td>5.0</td>\n",
       "      <td>-17.66</td>\n",
       "      <td>1.0</td>\n",
       "      <td>0.9590</td>\n",
       "      <td>0.77800</td>\n",
       "      <td>0.000000</td>\n",
       "      <td>0.2700</td>\n",
       "      <td>0.643</td>\n",
       "      <td>75.1</td>\n",
       "      <td>24373.0</td>\n",
       "      <td>4.0</td>\n",
       "      <td>39</td>\n",
       "      <td>0</td>\n",
       "      <td>13</td>\n",
       "      <td>dance_pop hip_hop hip_pop neo_soul pop_rap r&amp;b...</td>\n",
       "    </tr>\n",
       "    <tr>\n",
       "      <th>2</th>\n",
       "      <td>4DZpzJhrt8SG22hsyruUB1</td>\n",
       "      <td>26dSoYclwsYLMAKD3tpOr4</td>\n",
       "      <td>0eXGrEtsH0WVJnqp5imXAs</td>\n",
       "      <td>0.657</td>\n",
       "      <td>0.6450</td>\n",
       "      <td>2.0</td>\n",
       "      <td>-6.52</td>\n",
       "      <td>0.0</td>\n",
       "      <td>0.0603</td>\n",
       "      <td>0.00592</td>\n",
       "      <td>0.000199</td>\n",
       "      <td>0.2360</td>\n",
       "      <td>0.658</td>\n",
       "      <td>92.0</td>\n",
       "      <td>198640.0</td>\n",
       "      <td>4.0</td>\n",
       "      <td>40</td>\n",
       "      <td>0</td>\n",
       "      <td>15</td>\n",
       "      <td>dance_pop pop</td>\n",
       "    </tr>\n",
       "    <tr>\n",
       "      <th>3</th>\n",
       "      <td>3JyhzOBrTyTXHSAFRu0wKV</td>\n",
       "      <td>26dSoYclwsYLMAKD3tpOr4</td>\n",
       "      <td>0eXGrEtsH0WVJnqp5imXAs</td>\n",
       "      <td>0.367</td>\n",
       "      <td>0.6520</td>\n",
       "      <td>6.0</td>\n",
       "      <td>-7.17</td>\n",
       "      <td>1.0</td>\n",
       "      <td>0.1090</td>\n",
       "      <td>0.03320</td>\n",
       "      <td>0.000069</td>\n",
       "      <td>0.0947</td>\n",
       "      <td>0.156</td>\n",
       "      <td>112.4</td>\n",
       "      <td>199987.0</td>\n",
       "      <td>4.0</td>\n",
       "      <td>40</td>\n",
       "      <td>0</td>\n",
       "      <td>15</td>\n",
       "      <td>dance_pop pop</td>\n",
       "    </tr>\n",
       "    <tr>\n",
       "      <th>4</th>\n",
       "      <td>36b687iXNP8g84ulUXmPA7</td>\n",
       "      <td>26dSoYclwsYLMAKD3tpOr4</td>\n",
       "      <td>0eXGrEtsH0WVJnqp5imXAs</td>\n",
       "      <td>0.753</td>\n",
       "      <td>0.4560</td>\n",
       "      <td>2.0</td>\n",
       "      <td>-5.89</td>\n",
       "      <td>1.0</td>\n",
       "      <td>0.0419</td>\n",
       "      <td>0.22100</td>\n",
       "      <td>0.000000</td>\n",
       "      <td>0.4490</td>\n",
       "      <td>0.523</td>\n",
       "      <td>112.5</td>\n",
       "      <td>235293.0</td>\n",
       "      <td>3.0</td>\n",
       "      <td>40</td>\n",
       "      <td>0</td>\n",
       "      <td>15</td>\n",
       "      <td>dance_pop pop</td>\n",
       "    </tr>\n",
       "  </tbody>\n",
       "</table>\n",
       "</div>"
      ],
      "text/plain": [
       "                track_uri              artist_uri               album_uri  \\\n",
       "0  2THyGFz2KFSnnjilRrTDIM  2wIVse2owClT7go1WT98tk  5eNmebFdSZTcqExwoijGOO   \n",
       "1  3BgwOI1jT8l6dFeAiESJVM  2wIVse2owClT7go1WT98tk  6UkdyvPElK6JDkyeRClbI2   \n",
       "2  4DZpzJhrt8SG22hsyruUB1  26dSoYclwsYLMAKD3tpOr4  0eXGrEtsH0WVJnqp5imXAs   \n",
       "3  3JyhzOBrTyTXHSAFRu0wKV  26dSoYclwsYLMAKD3tpOr4  0eXGrEtsH0WVJnqp5imXAs   \n",
       "4  36b687iXNP8g84ulUXmPA7  26dSoYclwsYLMAKD3tpOr4  0eXGrEtsH0WVJnqp5imXAs   \n",
       "\n",
       "   danceability  energy  key  loudness  mode  speechiness  acousticness  \\\n",
       "0         0.713  0.6320  4.0     -7.25   0.0       0.1140       0.00822   \n",
       "1         0.748  0.0887  5.0    -17.66   1.0       0.9590       0.77800   \n",
       "2         0.657  0.6450  2.0     -6.52   0.0       0.0603       0.00592   \n",
       "3         0.367  0.6520  6.0     -7.17   1.0       0.1090       0.03320   \n",
       "4         0.753  0.4560  2.0     -5.89   1.0       0.0419       0.22100   \n",
       "\n",
       "   instrumentalness  liveness  valence  tempo  duration_ms  time_signature  \\\n",
       "0          0.000017    0.0978    0.474   99.8     210600.0             4.0   \n",
       "1          0.000000    0.2700    0.643   75.1      24373.0             4.0   \n",
       "2          0.000199    0.2360    0.658   92.0     198640.0             4.0   \n",
       "3          0.000069    0.0947    0.156  112.4     199987.0             4.0   \n",
       "4          0.000000    0.4490    0.523  112.5     235293.0             3.0   \n",
       "\n",
       "   Track_release_date  Track_pop  Artist_pop  \\\n",
       "0                  40          0          13   \n",
       "1                  39          0          13   \n",
       "2                  40          0          15   \n",
       "3                  40          0          15   \n",
       "4                  40          0          15   \n",
       "\n",
       "                                       Artist_genres  \n",
       "0  dance_pop hip_hop hip_pop neo_soul pop_rap r&b...  \n",
       "1  dance_pop hip_hop hip_pop neo_soul pop_rap r&b...  \n",
       "2                                      dance_pop pop  \n",
       "3                                      dance_pop pop  \n",
       "4                                      dance_pop pop  "
      ]
     },
     "execution_count": 3,
     "metadata": {},
     "output_type": "execute_result"
    }
   ],
   "source": [
    "df.head()"
   ]
  },
  {
   "cell_type": "code",
   "execution_count": 4,
   "metadata": {},
   "outputs": [],
   "source": [
    "# pip install spotipy"
   ]
  },
  {
   "cell_type": "code",
   "execution_count": 5,
   "metadata": {
    "colab": {
     "base_uri": "https://localhost:8080/",
     "height": 338
    },
    "executionInfo": {
     "elapsed": 4667,
     "status": "error",
     "timestamp": 1699497628337,
     "user": {
      "displayName": "Junbo Wang",
      "userId": "14682640775352485098"
     },
     "user_tz": 300
    },
    "id": "l32UqYN0copA",
    "outputId": "2dc440a9-6eca-4355-8d92-2cc99703cd77"
   },
   "outputs": [],
   "source": [
    "# from google.colab import drive\n",
    "# drive.mount('/content/drive')"
   ]
  },
  {
   "cell_type": "code",
   "execution_count": 6,
   "metadata": {
    "executionInfo": {
     "elapsed": 3,
     "status": "aborted",
     "timestamp": 1699497604450,
     "user": {
      "displayName": "Junbo Wang",
      "userId": "14682640775352485098"
     },
     "user_tz": 300
    },
    "id": "ymDfatMqckgi"
   },
   "outputs": [],
   "source": [
    "# Open the YAML file that contains the Spotify API credentials.\n",
    "stream= open(\"Spotify.yaml\")\n",
    "spotify_details = yaml.safe_load(stream)\n",
    "auth_manager = SpotifyClientCredentials(client_id=spotify_details['Client_id'],\n",
    "                                        client_secret=spotify_details['client_secret'])\n",
    "sp = spotipy.client.Spotify(auth_manager=auth_manager)"
   ]
  },
  {
   "cell_type": "code",
   "execution_count": 7,
   "metadata": {},
   "outputs": [
    {
     "data": {
      "text/plain": [
       "<spotipy.client.Spotify at 0x1b273534f10>"
      ]
     },
     "execution_count": 7,
     "metadata": {},
     "output_type": "execute_result"
    }
   ],
   "source": [
    "sp"
   ]
  },
  {
   "cell_type": "markdown",
   "metadata": {
    "id": "j-eh3Pgvckgj"
   },
   "source": [
    "# Importing the dataset"
   ]
  },
  {
   "cell_type": "code",
   "execution_count": 8,
   "metadata": {
    "id": "XnAdKmqmckgj"
   },
   "outputs": [],
   "source": [
    "dtypes = {'track_uri': 'object', 'artist_uri': 'object', 'album_uri': 'object', 'danceability': 'float16', 'energy': 'float16', 'key': 'float16',\n",
    "               'loudness': 'float16', 'mode': 'float16', 'speechiness': 'float16', 'acousticness': 'float16', 'instrumentalness': 'float16',\n",
    "               'liveness': 'float16', 'valence': 'float16', 'tempo': 'float16', 'duration_ms': 'float32', 'time_signature': 'float16',\n",
    "               'Track_release_date': 'int8', 'Track_pop': 'int8', 'Artist_pop': 'int8', 'Artist_genres': 'object'}\n",
    "try:\n",
    "    df=pd.read_csv('./data/1M_processed.csv',dtype=dtypes)\n",
    "except:\n",
    "    print('Failed to load grow')\n",
    "    df=pd.read_csv('./data/1M_processed.csv',dtype=dtypes)"
   ]
  },
  {
   "cell_type": "code",
   "execution_count": 9,
   "metadata": {
    "colab": {
     "base_uri": "https://localhost:8080/"
    },
    "executionInfo": {
     "elapsed": 11,
     "status": "ok",
     "timestamp": 1699417449946,
     "user": {
      "displayName": "王俊博",
      "userId": "18296041296361088912"
     },
     "user_tz": 300
    },
    "id": "GlCARpC2Ytaa",
    "outputId": "65ed1e44-872a-446a-af3b-983f35908e8a"
   },
   "outputs": [
    {
     "data": {
      "text/plain": [
       "(1163393, 20)"
      ]
     },
     "execution_count": 9,
     "metadata": {},
     "output_type": "execute_result"
    }
   ],
   "source": [
    "df.shape"
   ]
  },
  {
   "cell_type": "markdown",
   "metadata": {
    "id": "bmfaCKRWckgj"
   },
   "source": [
    "# Test"
   ]
  },
  {
   "cell_type": "markdown",
   "metadata": {
    "id": "JqT55ObUckgj"
   },
   "source": [
    "Extract playlist tracks and artist uri"
   ]
  },
  {
   "cell_type": "code",
   "execution_count": 10,
   "metadata": {
    "id": "Yf47anptVi8B"
   },
   "outputs": [],
   "source": [
    "def get_IDs (playlist_id):\n",
    "    track_ids = []\n",
    "    artist_id = []\n",
    "    playlist=sp.playlist (playlist_id)\n",
    "    for item in playlist['tracks']['items']:\n",
    "        track=item['track']\n",
    "        track_ids.append(track['id'])\n",
    "        artist=item['track']['artists']\n",
    "        artist_id.append(artist[0]['id'])\n",
    "    return track_ids,artist_id"
   ]
  },
  {
   "cell_type": "code",
   "execution_count": 11,
   "metadata": {
    "id": "BW0IJegvXIRB"
   },
   "outputs": [],
   "source": [
    " #playlist_id = 'spotify:playlist:1VDEf4vANEPRlrXVken86a'\n",
    "playlist_id ='spotify:playlist:37i9dQZF1E8NgXcf5gQPXv'"
   ]
  },
  {
   "cell_type": "code",
   "execution_count": 12,
   "metadata": {
    "colab": {
     "base_uri": "https://localhost:8080/"
    },
    "executionInfo": {
     "elapsed": 715,
     "status": "ok",
     "timestamp": 1699417450650,
     "user": {
      "displayName": "王俊博",
      "userId": "18296041296361088912"
     },
     "user_tz": 300
    },
    "id": "7Jp_ykpdckgj",
    "outputId": "ca8a48e6-be75-46f3-a594-4c428313dab2"
   },
   "outputs": [
    {
     "name": "stdout",
     "output_type": "stream",
     "text": [
      "50\n",
      "50\n"
     ]
    }
   ],
   "source": [
    "track_ids,artist_id = get_IDs (playlist_id)\n",
    "print (len(track_ids))\n",
    "print (len(artist_id))"
   ]
  },
  {
   "cell_type": "markdown",
   "metadata": {
    "id": "KTUesuANckgk"
   },
   "source": [
    "getting the unique URI and repeating the extraction features and preprocessing steps for the user's playlist (input)"
   ]
  },
  {
   "cell_type": "code",
   "execution_count": 13,
   "metadata": {
    "id": "mjLUwIZmckgk"
   },
   "outputs": [],
   "source": [
    "artist_id_uni=list(set(artist_id))\n",
    "track_ids_uni=list(set(track_ids))"
   ]
  },
  {
   "cell_type": "code",
   "execution_count": 14,
   "metadata": {
    "colab": {
     "base_uri": "https://localhost:8080/"
    },
    "executionInfo": {
     "elapsed": 308,
     "status": "ok",
     "timestamp": 1699417450955,
     "user": {
      "displayName": "王俊博",
      "userId": "18296041296361088912"
     },
     "user_tz": 300
    },
    "id": "oNfEjrQJckgk",
    "outputId": "2b5c4b54-c3f6-4b65-82f7-feb522f0e47e"
   },
   "outputs": [
    {
     "name": "stderr",
     "output_type": "stream",
     "text": [
      "100%|██████████| 2/2 [00:00<00:00,  7.67it/s]\n"
     ]
    }
   ],
   "source": [
    "audio_features=pd.DataFrame()\n",
    "for i in tqdm(range(0,len(track_ids_uni),25)):\n",
    "    try:\n",
    "     track_feature = sp.audio_features(track_ids_uni[i:i+25])\n",
    "     track_df = pd.DataFrame(track_feature)\n",
    "     audio_features=pd.concat([audio_features,track_df],axis=0)\n",
    "    except Exception as e:\n",
    "        print(e)\n",
    "        continue"
   ]
  },
  {
   "cell_type": "code",
   "execution_count": 15,
   "metadata": {
    "colab": {
     "base_uri": "https://localhost:8080/"
    },
    "executionInfo": {
     "elapsed": 1242,
     "status": "ok",
     "timestamp": 1699417452194,
     "user": {
      "displayName": "王俊博",
      "userId": "18296041296361088912"
     },
     "user_tz": 300
    },
    "id": "kJg8SZmuckgk",
    "outputId": "b70cd3ee-daf9-45e6-d385-c5ec30a26373"
   },
   "outputs": [
    {
     "name": "stderr",
     "output_type": "stream",
     "text": [
      "100%|██████████| 2/2 [00:00<00:00,  3.07it/s]\n"
     ]
    }
   ],
   "source": [
    "track_=pd.DataFrame()\n",
    "for i in tqdm(range(0,len(track_ids_uni),25)):\n",
    "    try:\n",
    "        track_features = sp.tracks(track_ids_uni[i:i+25])\n",
    "        for x in range(25):\n",
    "            track_pop=pd.DataFrame([track_ids_uni[i+x]],columns=['Track_uri'])\n",
    "            track_pop['Track_release_date']=track_features['tracks'][x]['album']['release_date']\n",
    "            track_pop['Track_pop'] = track_features['tracks'][x][\"popularity\"]\n",
    "            track_pop['Artist_uri']=track_features['tracks'][x]['artists'][0]['id']\n",
    "            track_pop['Album_uri']=track_features['tracks'][x]['album']['id']\n",
    "            track_=pd.concat([track_,track_pop],axis=0)\n",
    "    except Exception as e:\n",
    "        print(e)\n",
    "        continue"
   ]
  },
  {
   "cell_type": "code",
   "execution_count": 16,
   "metadata": {
    "colab": {
     "base_uri": "https://localhost:8080/"
    },
    "executionInfo": {
     "elapsed": 649,
     "status": "ok",
     "timestamp": 1699417452840,
     "user": {
      "displayName": "王俊博",
      "userId": "18296041296361088912"
     },
     "user_tz": 300
    },
    "id": "QKHsSlNIckgk",
    "outputId": "f80dc735-ce52-4ecf-efb2-bfc1cc109658"
   },
   "outputs": [
    {
     "name": "stderr",
     "output_type": "stream",
     "text": [
      "100%|██████████| 2/2 [00:00<00:00,  3.87it/s]"
     ]
    },
    {
     "name": "stdout",
     "output_type": "stream",
     "text": [
      "list index out of range\n"
     ]
    },
    {
     "name": "stderr",
     "output_type": "stream",
     "text": [
      "\n"
     ]
    }
   ],
   "source": [
    "artist_=pd.DataFrame()\n",
    "for i in tqdm(range(0,len(artist_id_uni),25)):\n",
    "    try:\n",
    "        artist_features = sp.artists(artist_id_uni[i:i+25])\n",
    "        for x in range(25):\n",
    "            artist_df=pd.DataFrame([artist_id_uni[i+x]],columns=['Artist_uri'])\n",
    "            artist_pop = artist_features['artists'][x][\"popularity\"]\n",
    "            artist_genres = artist_features['artists'][x][\"genres\"]\n",
    "            artist_df[\"Artist_pop\"] = artist_pop\n",
    "            if artist_genres:\n",
    "                artist_df[\"genres\"] = \" \".join([re.sub(' ','_',i) for i in artist_genres])\n",
    "            else:\n",
    "                artist_df[\"genres\"] = \"unknown\"\n",
    "            artist_=pd.concat([artist_,artist_df],axis=0)\n",
    "    except Exception as e:\n",
    "        print(e)\n",
    "        continue"
   ]
  },
  {
   "cell_type": "code",
   "execution_count": 17,
   "metadata": {},
   "outputs": [
    {
     "data": {
      "text/html": [
       "<div>\n",
       "<style scoped>\n",
       "    .dataframe tbody tr th:only-of-type {\n",
       "        vertical-align: middle;\n",
       "    }\n",
       "\n",
       "    .dataframe tbody tr th {\n",
       "        vertical-align: top;\n",
       "    }\n",
       "\n",
       "    .dataframe thead th {\n",
       "        text-align: right;\n",
       "    }\n",
       "</style>\n",
       "<table border=\"1\" class=\"dataframe\">\n",
       "  <thead>\n",
       "    <tr style=\"text-align: right;\">\n",
       "      <th></th>\n",
       "      <th>Track_uri</th>\n",
       "      <th>Track_release_date</th>\n",
       "      <th>Track_pop</th>\n",
       "      <th>Artist_uri</th>\n",
       "      <th>Album_uri</th>\n",
       "    </tr>\n",
       "  </thead>\n",
       "  <tbody>\n",
       "    <tr>\n",
       "      <th>0</th>\n",
       "      <td>6Bwu10ojlaFg7BGfHxvTWO</td>\n",
       "      <td>2021-10-01</td>\n",
       "      <td>64</td>\n",
       "      <td>0i5iO6icb7kxg48thi9gBM</td>\n",
       "      <td>4DiqVS0SU6o0jrgRMbfqxi</td>\n",
       "    </tr>\n",
       "    <tr>\n",
       "      <th>0</th>\n",
       "      <td>5qjtbs7pH1sgG94DlRcmFJ</td>\n",
       "      <td>2022-07-22</td>\n",
       "      <td>40</td>\n",
       "      <td>6JYq1icPMmdJ9jxyXDOieP</td>\n",
       "      <td>4pbNoIVR1PzWtRs7u7oRQV</td>\n",
       "    </tr>\n",
       "    <tr>\n",
       "      <th>0</th>\n",
       "      <td>5XJWVLhYE2tsa5vXlcgT3N</td>\n",
       "      <td>2022-10-13</td>\n",
       "      <td>67</td>\n",
       "      <td>4bw2Am3p9ji3mYsXNXtQcd</td>\n",
       "      <td>6U2Ncrmi1EeBQQz2NNgh1M</td>\n",
       "    </tr>\n",
       "    <tr>\n",
       "      <th>0</th>\n",
       "      <td>6Z6FqnImFvNvxg9aHW2HKz</td>\n",
       "      <td>2022-12-16</td>\n",
       "      <td>52</td>\n",
       "      <td>43qxAkuKFB6fMNSeS5dO7Z</td>\n",
       "      <td>731ECu5lhhgFIDPtbgOwe3</td>\n",
       "    </tr>\n",
       "    <tr>\n",
       "      <th>0</th>\n",
       "      <td>7dMTCS9BLzBqYTlAuHP8TM</td>\n",
       "      <td>2022-08-12</td>\n",
       "      <td>73</td>\n",
       "      <td>5xSx2FM8mQnrfgM1QsHniB</td>\n",
       "      <td>2SGONYwprYHZruYFhQYiFC</td>\n",
       "    </tr>\n",
       "  </tbody>\n",
       "</table>\n",
       "</div>"
      ],
      "text/plain": [
       "                Track_uri Track_release_date  Track_pop  \\\n",
       "0  6Bwu10ojlaFg7BGfHxvTWO         2021-10-01         64   \n",
       "0  5qjtbs7pH1sgG94DlRcmFJ         2022-07-22         40   \n",
       "0  5XJWVLhYE2tsa5vXlcgT3N         2022-10-13         67   \n",
       "0  6Z6FqnImFvNvxg9aHW2HKz         2022-12-16         52   \n",
       "0  7dMTCS9BLzBqYTlAuHP8TM         2022-08-12         73   \n",
       "\n",
       "               Artist_uri               Album_uri  \n",
       "0  0i5iO6icb7kxg48thi9gBM  4DiqVS0SU6o0jrgRMbfqxi  \n",
       "0  6JYq1icPMmdJ9jxyXDOieP  4pbNoIVR1PzWtRs7u7oRQV  \n",
       "0  4bw2Am3p9ji3mYsXNXtQcd  6U2Ncrmi1EeBQQz2NNgh1M  \n",
       "0  43qxAkuKFB6fMNSeS5dO7Z  731ECu5lhhgFIDPtbgOwe3  \n",
       "0  5xSx2FM8mQnrfgM1QsHniB  2SGONYwprYHZruYFhQYiFC  "
      ]
     },
     "execution_count": 17,
     "metadata": {},
     "output_type": "execute_result"
    }
   ],
   "source": [
    "track_.head()"
   ]
  },
  {
   "cell_type": "code",
   "execution_count": 18,
   "metadata": {},
   "outputs": [
    {
     "data": {
      "text/html": [
       "<div>\n",
       "<style scoped>\n",
       "    .dataframe tbody tr th:only-of-type {\n",
       "        vertical-align: middle;\n",
       "    }\n",
       "\n",
       "    .dataframe tbody tr th {\n",
       "        vertical-align: top;\n",
       "    }\n",
       "\n",
       "    .dataframe thead th {\n",
       "        text-align: right;\n",
       "    }\n",
       "</style>\n",
       "<table border=\"1\" class=\"dataframe\">\n",
       "  <thead>\n",
       "    <tr style=\"text-align: right;\">\n",
       "      <th></th>\n",
       "      <th>Artist_uri</th>\n",
       "      <th>Artist_pop</th>\n",
       "      <th>genres</th>\n",
       "    </tr>\n",
       "  </thead>\n",
       "  <tbody>\n",
       "    <tr>\n",
       "      <th>0</th>\n",
       "      <td>0AspLZGQkP38yddNoD0pLn</td>\n",
       "      <td>55</td>\n",
       "      <td>latin_viral_pop mexican_pop reggaeton_mexicano</td>\n",
       "    </tr>\n",
       "    <tr>\n",
       "      <th>0</th>\n",
       "      <td>1QgrwYywvDuC43MDtR8cqq</td>\n",
       "      <td>60</td>\n",
       "      <td>unknown</td>\n",
       "    </tr>\n",
       "    <tr>\n",
       "      <th>0</th>\n",
       "      <td>7uQ1D2NNHs5cUL3CLKRbia</td>\n",
       "      <td>61</td>\n",
       "      <td>pop_venezolano</td>\n",
       "    </tr>\n",
       "    <tr>\n",
       "      <th>0</th>\n",
       "      <td>0haZhu4fFKt0Ag94kZDiz2</td>\n",
       "      <td>66</td>\n",
       "      <td>latin_pop latin_viral_pop mexican_pop reggaeton</td>\n",
       "    </tr>\n",
       "    <tr>\n",
       "      <th>0</th>\n",
       "      <td>5xSx2FM8mQnrfgM1QsHniB</td>\n",
       "      <td>69</td>\n",
       "      <td>latin_pop latin_viral_pop mexican_pop</td>\n",
       "    </tr>\n",
       "  </tbody>\n",
       "</table>\n",
       "</div>"
      ],
      "text/plain": [
       "               Artist_uri  Artist_pop  \\\n",
       "0  0AspLZGQkP38yddNoD0pLn          55   \n",
       "0  1QgrwYywvDuC43MDtR8cqq          60   \n",
       "0  7uQ1D2NNHs5cUL3CLKRbia          61   \n",
       "0  0haZhu4fFKt0Ag94kZDiz2          66   \n",
       "0  5xSx2FM8mQnrfgM1QsHniB          69   \n",
       "\n",
       "                                            genres  \n",
       "0   latin_viral_pop mexican_pop reggaeton_mexicano  \n",
       "0                                          unknown  \n",
       "0                                   pop_venezolano  \n",
       "0  latin_pop latin_viral_pop mexican_pop reggaeton  \n",
       "0            latin_pop latin_viral_pop mexican_pop  "
      ]
     },
     "execution_count": 18,
     "metadata": {},
     "output_type": "execute_result"
    }
   ],
   "source": [
    "artist_.head()"
   ]
  },
  {
   "cell_type": "code",
   "execution_count": 19,
   "metadata": {},
   "outputs": [
    {
     "data": {
      "text/html": [
       "<div>\n",
       "<style scoped>\n",
       "    .dataframe tbody tr th:only-of-type {\n",
       "        vertical-align: middle;\n",
       "    }\n",
       "\n",
       "    .dataframe tbody tr th {\n",
       "        vertical-align: top;\n",
       "    }\n",
       "\n",
       "    .dataframe thead th {\n",
       "        text-align: right;\n",
       "    }\n",
       "</style>\n",
       "<table border=\"1\" class=\"dataframe\">\n",
       "  <thead>\n",
       "    <tr style=\"text-align: right;\">\n",
       "      <th></th>\n",
       "      <th>danceability</th>\n",
       "      <th>energy</th>\n",
       "      <th>key</th>\n",
       "      <th>loudness</th>\n",
       "      <th>mode</th>\n",
       "      <th>speechiness</th>\n",
       "      <th>acousticness</th>\n",
       "      <th>instrumentalness</th>\n",
       "      <th>liveness</th>\n",
       "      <th>valence</th>\n",
       "      <th>tempo</th>\n",
       "      <th>type</th>\n",
       "      <th>id</th>\n",
       "      <th>uri</th>\n",
       "      <th>track_href</th>\n",
       "      <th>analysis_url</th>\n",
       "      <th>duration_ms</th>\n",
       "      <th>time_signature</th>\n",
       "    </tr>\n",
       "  </thead>\n",
       "  <tbody>\n",
       "    <tr>\n",
       "      <th>0</th>\n",
       "      <td>0.719</td>\n",
       "      <td>0.544</td>\n",
       "      <td>0</td>\n",
       "      <td>-10.526</td>\n",
       "      <td>1</td>\n",
       "      <td>0.0292</td>\n",
       "      <td>0.210</td>\n",
       "      <td>0.000025</td>\n",
       "      <td>0.122</td>\n",
       "      <td>0.677</td>\n",
       "      <td>127.032</td>\n",
       "      <td>audio_features</td>\n",
       "      <td>6Bwu10ojlaFg7BGfHxvTWO</td>\n",
       "      <td>spotify:track:6Bwu10ojlaFg7BGfHxvTWO</td>\n",
       "      <td>https://api.spotify.com/v1/tracks/6Bwu10ojlaFg...</td>\n",
       "      <td>https://api.spotify.com/v1/audio-analysis/6Bwu...</td>\n",
       "      <td>203973</td>\n",
       "      <td>4</td>\n",
       "    </tr>\n",
       "    <tr>\n",
       "      <th>1</th>\n",
       "      <td>0.413</td>\n",
       "      <td>0.789</td>\n",
       "      <td>7</td>\n",
       "      <td>-3.062</td>\n",
       "      <td>1</td>\n",
       "      <td>0.2220</td>\n",
       "      <td>0.501</td>\n",
       "      <td>0.000000</td>\n",
       "      <td>0.267</td>\n",
       "      <td>0.386</td>\n",
       "      <td>185.534</td>\n",
       "      <td>audio_features</td>\n",
       "      <td>5qjtbs7pH1sgG94DlRcmFJ</td>\n",
       "      <td>spotify:track:5qjtbs7pH1sgG94DlRcmFJ</td>\n",
       "      <td>https://api.spotify.com/v1/tracks/5qjtbs7pH1sg...</td>\n",
       "      <td>https://api.spotify.com/v1/audio-analysis/5qjt...</td>\n",
       "      <td>171614</td>\n",
       "      <td>4</td>\n",
       "    </tr>\n",
       "    <tr>\n",
       "      <th>2</th>\n",
       "      <td>0.804</td>\n",
       "      <td>0.793</td>\n",
       "      <td>0</td>\n",
       "      <td>-2.778</td>\n",
       "      <td>1</td>\n",
       "      <td>0.0777</td>\n",
       "      <td>0.133</td>\n",
       "      <td>0.000000</td>\n",
       "      <td>0.136</td>\n",
       "      <td>0.454</td>\n",
       "      <td>84.004</td>\n",
       "      <td>audio_features</td>\n",
       "      <td>5XJWVLhYE2tsa5vXlcgT3N</td>\n",
       "      <td>spotify:track:5XJWVLhYE2tsa5vXlcgT3N</td>\n",
       "      <td>https://api.spotify.com/v1/tracks/5XJWVLhYE2ts...</td>\n",
       "      <td>https://api.spotify.com/v1/audio-analysis/5XJW...</td>\n",
       "      <td>209268</td>\n",
       "      <td>4</td>\n",
       "    </tr>\n",
       "    <tr>\n",
       "      <th>3</th>\n",
       "      <td>0.778</td>\n",
       "      <td>0.681</td>\n",
       "      <td>2</td>\n",
       "      <td>-5.836</td>\n",
       "      <td>0</td>\n",
       "      <td>0.0301</td>\n",
       "      <td>0.293</td>\n",
       "      <td>0.000000</td>\n",
       "      <td>0.101</td>\n",
       "      <td>0.927</td>\n",
       "      <td>148.070</td>\n",
       "      <td>audio_features</td>\n",
       "      <td>6Z6FqnImFvNvxg9aHW2HKz</td>\n",
       "      <td>spotify:track:6Z6FqnImFvNvxg9aHW2HKz</td>\n",
       "      <td>https://api.spotify.com/v1/tracks/6Z6FqnImFvNv...</td>\n",
       "      <td>https://api.spotify.com/v1/audio-analysis/6Z6F...</td>\n",
       "      <td>172515</td>\n",
       "      <td>4</td>\n",
       "    </tr>\n",
       "    <tr>\n",
       "      <th>4</th>\n",
       "      <td>0.797</td>\n",
       "      <td>0.677</td>\n",
       "      <td>9</td>\n",
       "      <td>-4.163</td>\n",
       "      <td>0</td>\n",
       "      <td>0.0857</td>\n",
       "      <td>0.101</td>\n",
       "      <td>0.000000</td>\n",
       "      <td>0.441</td>\n",
       "      <td>0.919</td>\n",
       "      <td>130.034</td>\n",
       "      <td>audio_features</td>\n",
       "      <td>7dMTCS9BLzBqYTlAuHP8TM</td>\n",
       "      <td>spotify:track:7dMTCS9BLzBqYTlAuHP8TM</td>\n",
       "      <td>https://api.spotify.com/v1/tracks/7dMTCS9BLzBq...</td>\n",
       "      <td>https://api.spotify.com/v1/audio-analysis/7dMT...</td>\n",
       "      <td>219320</td>\n",
       "      <td>4</td>\n",
       "    </tr>\n",
       "  </tbody>\n",
       "</table>\n",
       "</div>"
      ],
      "text/plain": [
       "   danceability  energy  key  loudness  mode  speechiness  acousticness  \\\n",
       "0         0.719   0.544    0   -10.526     1       0.0292         0.210   \n",
       "1         0.413   0.789    7    -3.062     1       0.2220         0.501   \n",
       "2         0.804   0.793    0    -2.778     1       0.0777         0.133   \n",
       "3         0.778   0.681    2    -5.836     0       0.0301         0.293   \n",
       "4         0.797   0.677    9    -4.163     0       0.0857         0.101   \n",
       "\n",
       "   instrumentalness  liveness  valence    tempo            type  \\\n",
       "0          0.000025     0.122    0.677  127.032  audio_features   \n",
       "1          0.000000     0.267    0.386  185.534  audio_features   \n",
       "2          0.000000     0.136    0.454   84.004  audio_features   \n",
       "3          0.000000     0.101    0.927  148.070  audio_features   \n",
       "4          0.000000     0.441    0.919  130.034  audio_features   \n",
       "\n",
       "                       id                                   uri  \\\n",
       "0  6Bwu10ojlaFg7BGfHxvTWO  spotify:track:6Bwu10ojlaFg7BGfHxvTWO   \n",
       "1  5qjtbs7pH1sgG94DlRcmFJ  spotify:track:5qjtbs7pH1sgG94DlRcmFJ   \n",
       "2  5XJWVLhYE2tsa5vXlcgT3N  spotify:track:5XJWVLhYE2tsa5vXlcgT3N   \n",
       "3  6Z6FqnImFvNvxg9aHW2HKz  spotify:track:6Z6FqnImFvNvxg9aHW2HKz   \n",
       "4  7dMTCS9BLzBqYTlAuHP8TM  spotify:track:7dMTCS9BLzBqYTlAuHP8TM   \n",
       "\n",
       "                                          track_href  \\\n",
       "0  https://api.spotify.com/v1/tracks/6Bwu10ojlaFg...   \n",
       "1  https://api.spotify.com/v1/tracks/5qjtbs7pH1sg...   \n",
       "2  https://api.spotify.com/v1/tracks/5XJWVLhYE2ts...   \n",
       "3  https://api.spotify.com/v1/tracks/6Z6FqnImFvNv...   \n",
       "4  https://api.spotify.com/v1/tracks/7dMTCS9BLzBq...   \n",
       "\n",
       "                                        analysis_url  duration_ms  \\\n",
       "0  https://api.spotify.com/v1/audio-analysis/6Bwu...       203973   \n",
       "1  https://api.spotify.com/v1/audio-analysis/5qjt...       171614   \n",
       "2  https://api.spotify.com/v1/audio-analysis/5XJW...       209268   \n",
       "3  https://api.spotify.com/v1/audio-analysis/6Z6F...       172515   \n",
       "4  https://api.spotify.com/v1/audio-analysis/7dMT...       219320   \n",
       "\n",
       "   time_signature  \n",
       "0               4  \n",
       "1               4  \n",
       "2               4  \n",
       "3               4  \n",
       "4               4  "
      ]
     },
     "execution_count": 19,
     "metadata": {},
     "output_type": "execute_result"
    }
   ],
   "source": [
    "audio_features.head()"
   ]
  },
  {
   "cell_type": "code",
   "execution_count": 20,
   "metadata": {
    "id": "wx_vQAKgckgl"
   },
   "outputs": [],
   "source": [
    "test=pd.DataFrame(track_,columns=['Track_uri','Artist_uri','Album_uri'])"
   ]
  },
  {
   "cell_type": "code",
   "execution_count": 21,
   "metadata": {},
   "outputs": [
    {
     "data": {
      "text/html": [
       "<div>\n",
       "<style scoped>\n",
       "    .dataframe tbody tr th:only-of-type {\n",
       "        vertical-align: middle;\n",
       "    }\n",
       "\n",
       "    .dataframe tbody tr th {\n",
       "        vertical-align: top;\n",
       "    }\n",
       "\n",
       "    .dataframe thead th {\n",
       "        text-align: right;\n",
       "    }\n",
       "</style>\n",
       "<table border=\"1\" class=\"dataframe\">\n",
       "  <thead>\n",
       "    <tr style=\"text-align: right;\">\n",
       "      <th></th>\n",
       "      <th>Track_uri</th>\n",
       "      <th>Artist_uri</th>\n",
       "      <th>Album_uri</th>\n",
       "    </tr>\n",
       "  </thead>\n",
       "  <tbody>\n",
       "    <tr>\n",
       "      <th>0</th>\n",
       "      <td>6Bwu10ojlaFg7BGfHxvTWO</td>\n",
       "      <td>0i5iO6icb7kxg48thi9gBM</td>\n",
       "      <td>4DiqVS0SU6o0jrgRMbfqxi</td>\n",
       "    </tr>\n",
       "    <tr>\n",
       "      <th>0</th>\n",
       "      <td>5qjtbs7pH1sgG94DlRcmFJ</td>\n",
       "      <td>6JYq1icPMmdJ9jxyXDOieP</td>\n",
       "      <td>4pbNoIVR1PzWtRs7u7oRQV</td>\n",
       "    </tr>\n",
       "    <tr>\n",
       "      <th>0</th>\n",
       "      <td>5XJWVLhYE2tsa5vXlcgT3N</td>\n",
       "      <td>4bw2Am3p9ji3mYsXNXtQcd</td>\n",
       "      <td>6U2Ncrmi1EeBQQz2NNgh1M</td>\n",
       "    </tr>\n",
       "    <tr>\n",
       "      <th>0</th>\n",
       "      <td>6Z6FqnImFvNvxg9aHW2HKz</td>\n",
       "      <td>43qxAkuKFB6fMNSeS5dO7Z</td>\n",
       "      <td>731ECu5lhhgFIDPtbgOwe3</td>\n",
       "    </tr>\n",
       "    <tr>\n",
       "      <th>0</th>\n",
       "      <td>7dMTCS9BLzBqYTlAuHP8TM</td>\n",
       "      <td>5xSx2FM8mQnrfgM1QsHniB</td>\n",
       "      <td>2SGONYwprYHZruYFhQYiFC</td>\n",
       "    </tr>\n",
       "  </tbody>\n",
       "</table>\n",
       "</div>"
      ],
      "text/plain": [
       "                Track_uri              Artist_uri               Album_uri\n",
       "0  6Bwu10ojlaFg7BGfHxvTWO  0i5iO6icb7kxg48thi9gBM  4DiqVS0SU6o0jrgRMbfqxi\n",
       "0  5qjtbs7pH1sgG94DlRcmFJ  6JYq1icPMmdJ9jxyXDOieP  4pbNoIVR1PzWtRs7u7oRQV\n",
       "0  5XJWVLhYE2tsa5vXlcgT3N  4bw2Am3p9ji3mYsXNXtQcd  6U2Ncrmi1EeBQQz2NNgh1M\n",
       "0  6Z6FqnImFvNvxg9aHW2HKz  43qxAkuKFB6fMNSeS5dO7Z  731ECu5lhhgFIDPtbgOwe3\n",
       "0  7dMTCS9BLzBqYTlAuHP8TM  5xSx2FM8mQnrfgM1QsHniB  2SGONYwprYHZruYFhQYiFC"
      ]
     },
     "execution_count": 21,
     "metadata": {},
     "output_type": "execute_result"
    }
   ],
   "source": [
    "test.head()"
   ]
  },
  {
   "cell_type": "code",
   "execution_count": 22,
   "metadata": {
    "id": "4Wss0MUIckgl"
   },
   "outputs": [],
   "source": [
    "test.rename(columns = {'Track_uri':'track_uri','Artist_uri':'artist_uri','Album_uri':'album_uri'}, inplace = True)"
   ]
  },
  {
   "cell_type": "code",
   "execution_count": 23,
   "metadata": {
    "id": "ISo0Jyqkckgl"
   },
   "outputs": [],
   "source": [
    "audio_features.drop(columns=['type','uri','track_href','analysis_url'],axis=1,inplace=True)"
   ]
  },
  {
   "cell_type": "code",
   "execution_count": 24,
   "metadata": {
    "id": "7ZPN19bAckgl"
   },
   "outputs": [],
   "source": [
    "test = pd.merge(test,audio_features, left_on = \"track_uri\", right_on= \"id\",how = 'outer')\n",
    "test = pd.merge(test,track_, left_on = \"track_uri\", right_on= \"Track_uri\",how = 'outer')\n",
    "test = pd.merge(test,artist_, left_on = \"artist_uri\", right_on= \"Artist_uri\",how = 'outer')"
   ]
  },
  {
   "cell_type": "code",
   "execution_count": 25,
   "metadata": {},
   "outputs": [
    {
     "data": {
      "text/plain": [
       "(50, 25)"
      ]
     },
     "execution_count": 25,
     "metadata": {},
     "output_type": "execute_result"
    }
   ],
   "source": [
    "test.shape"
   ]
  },
  {
   "cell_type": "code",
   "execution_count": null,
   "metadata": {
    "id": "hLDTqGCpckgl"
   },
   "outputs": [],
   "source": [
    "# del audio_features,track_,artist_"
   ]
  },
  {
   "cell_type": "code",
   "execution_count": null,
   "metadata": {
    "id": "bVNSbxd5ckgl"
   },
   "outputs": [],
   "source": [
    "test.rename(columns = {'genres':'Artist_genres'}, inplace = True)"
   ]
  },
  {
   "cell_type": "code",
   "execution_count": null,
   "metadata": {
    "id": "KQoEbF_Uckgl"
   },
   "outputs": [],
   "source": [
    "test.drop(columns=['Track_uri','Artist_uri_x','Artist_uri_y','Album_uri','id'],axis=1,inplace=True)"
   ]
  },
  {
   "cell_type": "code",
   "execution_count": null,
   "metadata": {
    "id": "TX5XotS6ckgl"
   },
   "outputs": [],
   "source": [
    "test.dropna(axis=0,inplace=True)"
   ]
  },
  {
   "cell_type": "code",
   "execution_count": null,
   "metadata": {
    "id": "m4nuGPnuckgl"
   },
   "outputs": [],
   "source": [
    "test['Track_pop'] = test['Track_pop'].apply(lambda x: int(x/5))\n",
    "test['Artist_pop'] = test['Artist_pop'].apply(lambda x: int(x/5))\n",
    "test['Track_release_date'] = test['Track_release_date'].apply(lambda x: x.split('-')[0])\n",
    "test['Track_release_date']=test['Track_release_date'].astype('int16')\n",
    "test['Track_release_date'] = test['Track_release_date'].apply(lambda x: int(x/50))"
   ]
  },
  {
   "cell_type": "code",
   "execution_count": null,
   "metadata": {
    "id": "LFGI2-_9ckgm"
   },
   "outputs": [],
   "source": [
    "test[['danceability', 'energy', 'key','loudness', 'mode', 'speechiness', 'acousticness', 'instrumentalness','liveness', 'valence', 'tempo', 'time_signature']]=test[['danceability', 'energy', 'key','loudness', 'mode', 'speechiness', 'acousticness', 'instrumentalness','liveness', 'valence', 'tempo','time_signature']].astype('float16')\n",
    "test[['duration_ms']]=test[['duration_ms']].astype('float32')\n",
    "test[['Track_release_date', 'Track_pop', 'Artist_pop']]=test[['Track_release_date', 'Track_pop', 'Artist_pop']].astype('int8')"
   ]
  },
  {
   "cell_type": "code",
   "execution_count": null,
   "metadata": {
    "colab": {
     "base_uri": "https://localhost:8080/"
    },
    "executionInfo": {
     "elapsed": 2,
     "status": "ok",
     "timestamp": 1699417453030,
     "user": {
      "displayName": "王俊博",
      "userId": "18296041296361088912"
     },
     "user_tz": 300
    },
    "id": "o-J3ri9Nckgm",
    "outputId": "18f960e9-e31e-4f13-88b8-25dc51e93b48"
   },
   "outputs": [],
   "source": [
    "currentdf=len(df)\n",
    "currentdf"
   ]
  },
  {
   "cell_type": "code",
   "execution_count": null,
   "metadata": {
    "id": "-aadz7kZckgm"
   },
   "outputs": [],
   "source": [
    "df=pd.concat([df,test],axis=0)"
   ]
  },
  {
   "cell_type": "code",
   "execution_count": null,
   "metadata": {
    "id": "V-RfHcD6ckgm"
   },
   "outputs": [],
   "source": [
    "df.drop_duplicates(subset=['track_uri'],inplace=True,keep='last') ## keep last to keep the dataset updated"
   ]
  },
  {
   "cell_type": "code",
   "execution_count": null,
   "metadata": {
    "id": "w-Au9kRnckgm"
   },
   "outputs": [],
   "source": [
    "df.dropna(axis=0,inplace=True)"
   ]
  },
  {
   "cell_type": "code",
   "execution_count": null,
   "metadata": {
    "colab": {
     "base_uri": "https://localhost:8080/"
    },
    "executionInfo": {
     "elapsed": 4,
     "status": "ok",
     "timestamp": 1699417459136,
     "user": {
      "displayName": "王俊博",
      "userId": "18296041296361088912"
     },
     "user_tz": 300
    },
    "id": "pglTcrCPckgm",
    "outputId": "03d19019-5139-4575-f733-e780a6d59903"
   },
   "outputs": [],
   "source": [
    "print('{} New Tracks Found'.format(len(df)-currentdf))"
   ]
  },
  {
   "cell_type": "code",
   "execution_count": null,
   "metadata": {
    "colab": {
     "base_uri": "https://localhost:8080/"
    },
    "executionInfo": {
     "elapsed": 62245,
     "status": "ok",
     "timestamp": 1699417521378,
     "user": {
      "displayName": "王俊博",
      "userId": "18296041296361088912"
     },
     "user_tz": 300
    },
    "id": "aZoy-7Q1ckgm",
    "outputId": "32c1024f-6ee1-430f-a753-4adfa7dc7ed5"
   },
   "outputs": [],
   "source": [
    "#saving the tracks if they weren't found in the dataset\n",
    "if len(df)>currentdf:\n",
    "    df.to_csv('./data/1M_processed.csv',index=False)\n",
    "    print('{} New Found'.format(len(df)-currentdf))\n",
    "    streamlit=df[df.Track_pop >0]             # dropped track with 0 popularity score to save space and ram for the final model\n",
    "    ##### may need to adjust#####\n",
    "    streamlit.to_csv('./data/streamlit.csv',index=False)\n",
    "    del streamlit"
   ]
  },
  {
   "cell_type": "code",
   "execution_count": null,
   "metadata": {
    "id": "Qm-fYohrckgm"
   },
   "outputs": [],
   "source": [
    "df = df[~df['track_uri'].isin(test['track_uri'].values)]"
   ]
  },
  {
   "cell_type": "code",
   "execution_count": null,
   "metadata": {
    "id": "ZANByihzckgm"
   },
   "outputs": [],
   "source": [
    "test['Artist_genres'] = test['Artist_genres'].apply(lambda x: x.split(\" \"))\n",
    "tfidf = TfidfVectorizer(max_features=5) #max_features=5\n",
    "tfidf_matrix = tfidf.fit_transform(test['Artist_genres'].apply(lambda x: \" \".join(x)))\n",
    "genre_df = pd.DataFrame(tfidf_matrix.toarray())\n",
    "genre_df.columns = ['genre' + \"|\" + i for i in tfidf.get_feature_names_out()]"
   ]
  },
  {
   "cell_type": "code",
   "execution_count": null,
   "metadata": {
    "id": "-_sLBvy3ckgm"
   },
   "outputs": [],
   "source": [
    "genre_df=genre_df.astype('float16')\n",
    "test.drop(columns=['Artist_genres'],axis=1,inplace=True)"
   ]
  },
  {
   "cell_type": "code",
   "execution_count": null,
   "metadata": {
    "id": "KrV3DMrVckgm"
   },
   "outputs": [],
   "source": [
    "test = pd.concat([test.reset_index(drop=True), genre_df.reset_index(drop=True)],axis = 1)"
   ]
  },
  {
   "cell_type": "code",
   "execution_count": null,
   "metadata": {
    "colab": {
     "base_uri": "https://localhost:8080/"
    },
    "executionInfo": {
     "elapsed": 4,
     "status": "ok",
     "timestamp": 1699417521783,
     "user": {
      "displayName": "王俊博",
      "userId": "18296041296361088912"
     },
     "user_tz": 300
    },
    "id": "qasNuZpGckgm",
    "outputId": "1dd7a911-ec4a-4383-b255-a8fbd4863037"
   },
   "outputs": [],
   "source": [
    "test.isna().sum().sum()"
   ]
  },
  {
   "cell_type": "code",
   "execution_count": null,
   "metadata": {
    "id": "i4T9eXvackgm"
   },
   "outputs": [],
   "source": [
    "df['Artist_genres'] = df['Artist_genres'].apply(lambda x: x.split(\" \"))\n",
    "tfidf_matrix = tfidf.transform(df['Artist_genres'].apply(lambda x: \" \".join(x)))\n",
    "genre_df = pd.DataFrame(tfidf_matrix.toarray())\n",
    "genre_df.columns = ['genre' + \"|\" + i for i in tfidf.get_feature_names_out()]"
   ]
  },
  {
   "cell_type": "code",
   "execution_count": null,
   "metadata": {
    "id": "KzHpHRAxckgo"
   },
   "outputs": [],
   "source": [
    "genre_df=genre_df.astype('float16')\n",
    "df.drop(columns=['Artist_genres'],axis=1,inplace=True)"
   ]
  },
  {
   "cell_type": "code",
   "execution_count": null,
   "metadata": {
    "id": "P3NGqDwkckgo"
   },
   "outputs": [],
   "source": [
    "df = pd.concat([df.reset_index(drop=True), genre_df.reset_index(drop=True)],axis = 1)"
   ]
  },
  {
   "cell_type": "code",
   "execution_count": null,
   "metadata": {
    "colab": {
     "base_uri": "https://localhost:8080/"
    },
    "executionInfo": {
     "elapsed": 7,
     "status": "ok",
     "timestamp": 1699417534481,
     "user": {
      "displayName": "王俊博",
      "userId": "18296041296361088912"
     },
     "user_tz": 300
    },
    "id": "UObZYDr_ckgq",
    "outputId": "e9ed663e-9f8e-4532-a021-a6a6ecff376f"
   },
   "outputs": [],
   "source": [
    "try:\n",
    "    df.drop(columns=['genre|unknown'],axis=1,inplace=True)\n",
    "    test.drop(columns=['genre|unknown'],axis=1,inplace=True)\n",
    "except:\n",
    "    print('genre|unknown not found')"
   ]
  },
  {
   "cell_type": "code",
   "execution_count": null,
   "metadata": {
    "colab": {
     "base_uri": "https://localhost:8080/"
    },
    "executionInfo": {
     "elapsed": 5,
     "status": "ok",
     "timestamp": 1699417534481,
     "user": {
      "displayName": "王俊博",
      "userId": "18296041296361088912"
     },
     "user_tz": 300
    },
    "id": "PX6HKXfbckgq",
    "outputId": "9d64a554-8b45-44ff-8123-ef341fe2946a"
   },
   "outputs": [],
   "source": [
    "test.columns"
   ]
  },
  {
   "cell_type": "code",
   "execution_count": null,
   "metadata": {
    "colab": {
     "base_uri": "https://localhost:8080/"
    },
    "executionInfo": {
     "elapsed": 4,
     "status": "ok",
     "timestamp": 1699417534481,
     "user": {
      "displayName": "王俊博",
      "userId": "18296041296361088912"
     },
     "user_tz": 300
    },
    "id": "vZWIG3SAckgr",
    "outputId": "bfa38fa7-5110-455e-9dd7-f4c6f6a5a6c0"
   },
   "outputs": [],
   "source": [
    "df.columns"
   ]
  },
  {
   "cell_type": "code",
   "execution_count": null,
   "metadata": {
    "id": "ppdru1n8ckgr"
   },
   "outputs": [],
   "source": [
    "sc=MinMaxScaler()\n",
    "df[df.columns[3:19]] = sc.fit_transform(df.iloc[:,3:19]) #in the saved dataset get all rows, and columns including audio features. note that genre is not included\n",
    "pickle.dump(sc, open('./data/sc.sav', 'wb'))\n",
    "\n",
    "#prepare a new data frame call df_new for PCA analysis\n",
    "df_new = df"
   ]
  },
  {
   "cell_type": "code",
   "execution_count": null,
   "metadata": {},
   "outputs": [],
   "source": [
    "df.shape"
   ]
  },
  {
   "cell_type": "code",
   "execution_count": null,
   "metadata": {},
   "outputs": [],
   "source": [
    "test.shape"
   ]
  },
  {
   "cell_type": "code",
   "execution_count": null,
   "metadata": {
    "id": "4N0eXpGHckgr"
   },
   "outputs": [],
   "source": [
    "test[test.columns[3:19]] = sc.transform(test.iloc[:,3:19]) #based on input play list, get all rows, and columns including audio features. note that genre is not included\n",
    "\n",
    "#prepare a new data frame call df_new for PCA analysis\n",
    "test_new = test"
   ]
  },
  {
   "cell_type": "code",
   "execution_count": null,
   "metadata": {},
   "outputs": [],
   "source": [
    "test_new.shape"
   ]
  },
  {
   "cell_type": "code",
   "execution_count": null,
   "metadata": {},
   "outputs": [],
   "source": [
    "test_new.head()"
   ]
  },
  {
   "cell_type": "code",
   "execution_count": null,
   "metadata": {
    "colab": {
     "base_uri": "https://localhost:8080/",
     "height": 130
    },
    "executionInfo": {
     "elapsed": 5,
     "status": "ok",
     "timestamp": 1699417535078,
     "user": {
      "displayName": "王俊博",
      "userId": "18296041296361088912"
     },
     "user_tz": 300
    },
    "id": "ILZPsJ1Mckgr",
    "outputId": "941d2f4c-5803-42e3-f534-32d76135c48b"
   },
   "outputs": [],
   "source": [
    "playvec=pd.DataFrame(test.sum(axis=0)).T\n",
    "playvec"
   ]
  },
  {
   "cell_type": "code",
   "execution_count": null,
   "metadata": {},
   "outputs": [],
   "source": [
    "df.head()"
   ]
  },
  {
   "cell_type": "markdown",
   "metadata": {},
   "source": [
    "# Recommender System"
   ]
  },
  {
   "cell_type": "code",
   "execution_count": null,
   "metadata": {
    "id": "VYb2nStZ8e3t"
   },
   "outputs": [],
   "source": [
    "#### Revision here\n",
    "\n",
    "# Select the numeric features\n",
    "numeric_features = ['danceability', 'energy', 'key', 'loudness', 'mode', 'speechiness', 'acousticness', 'instrumentalness', 'liveness', 'valence', 'tempo',\n",
    "                    'duration_ms', 'time_signature', 'Track_release_date', 'Track_pop', 'Artist_pop']\n",
    "\n",
    "# Extract the numeric features for PCA\n",
    "df_new_numeric = df_new[numeric_features]\n",
    "playvec_new_numeric = playvec[numeric_features]\n",
    "\n",
    "# Initialize PCA, keep 95% of the variance and Fit PCA on the numeric features\n",
    "pca = PCA(n_components=0.95)\n",
    "pca.fit(df_new_numeric)\n",
    "\n",
    "# Transform both df and df_test numeric features\n",
    "df_pca = pca.transform(df_new_numeric)\n",
    "playvec_pca = pca.transform(playvec_new_numeric)\n",
    "\n",
    "# Convert the PCA components into a DataFrame\n",
    "df_pca_df = pd.DataFrame(df_pca, index=df_new.index)\n",
    "playvec_pca_df = pd.DataFrame(playvec_pca, index=playvec.index)"
   ]
  },
  {
   "cell_type": "code",
   "execution_count": null,
   "metadata": {
    "colab": {
     "base_uri": "https://localhost:8080/",
     "height": 677
    },
    "executionInfo": {
     "elapsed": 4845,
     "status": "ok",
     "timestamp": 1699417548789,
     "user": {
      "displayName": "王俊博",
      "userId": "18296041296361088912"
     },
     "user_tz": 300
    },
    "id": "HkG6njZADo9K",
    "outputId": "559ae8d8-53c8-4554-e49c-cccfdc928afb"
   },
   "outputs": [],
   "source": [
    "#### Find cosine similairty based on PCA model\n",
    "df_new['sim_pca'] = cosine_similarity(df_pca_df, playvec_pca_df) # Calculate the cosine similarity\n",
    "df_new['sim_genres'] = cosine_similarity(df_new.loc[:, df_new.columns.str.startswith('genre')], playvec.loc[:, playvec.columns.str.startswith('genre')]) # Calculate the cosine similarity for genres\n",
    "df_new['sim_combined'] = (df_new['sim_pca'] + df_new['sim_genres']) / 2  # Combine PCA similarity with genre similarity to get a combined similarity score\n",
    "\n",
    "#sort based on similarity score, but give more weight/focus on genre first then PCA\n",
    "df_new = df_new.sort_values(['sim_genres', 'sim_combined'], ascending = False, kind='stable')\n",
    "\n",
    "#get the list of track uris\n",
    "qq=df_new.groupby('artist_uri').head(2).track_uri.head(20)\n",
    "\n",
    "#get recommendation track detail\n",
    "aa=sp.tracks(qq[0:20])\n",
    "Fresult=pd.DataFrame()\n",
    "for i in range(20):\n",
    "    result=pd.DataFrame([i])\n",
    "    result['track_name']=aa['tracks'][i]['name']\n",
    "    result['artist_name']=aa['tracks'][i]['artists'][0]['name']\n",
    "    #result['url']=aa['tracks'][i]['external_urls']['spotify']\n",
    "    result['pop'] = aa['tracks'][i][\"popularity\"]\n",
    "    #result['image']=aa['tracks'][i]['album']['images'][1]['url']\n",
    "    Fresult=pd.concat([Fresult,result],axis=0)\n",
    "Fresult"
   ]
  },
  {
   "cell_type": "code",
   "execution_count": null,
   "metadata": {
    "colab": {
     "base_uri": "https://localhost:8080/",
     "height": 677
    },
    "executionInfo": {
     "elapsed": 4214,
     "status": "ok",
     "timestamp": 1699417553001,
     "user": {
      "displayName": "王俊博",
      "userId": "18296041296361088912"
     },
     "user_tz": 300
    },
    "id": "vYNxOwElckgr",
    "outputId": "8df64b30-1ec1-43b4-a2de-186c500422fd"
   },
   "outputs": [],
   "source": [
    "Spotifyresult=pd.DataFrame()\n",
    "for i in range(len(test)-1):\n",
    "    if len(Spotifyresult)>=20:\n",
    "        break\n",
    "    ff=sp.recommendations(seed_tracks=list(test.track_uri[1+i:5+i]),limit=2)\n",
    "    for z in range(2):\n",
    "        result=pd.DataFrame([z+(2*i)+1])\n",
    "        result['track_name']=ff['tracks'][z]['name']\n",
    "        result['artist_name']=ff['tracks'][z]['artists'][0]['name']\n",
    "        result['pop'] = ff['tracks'][z][\"popularity\"]\n",
    "        #result['uri']=ff['tracks'][z]['id']\n",
    "        #result['url']=ff['tracks'][z]['external_urls']['spotify']\n",
    "        #result['image']=ff['tracks'][z]['album']['images'][1]['url']\n",
    "        Spotifyresult=pd.concat([Spotifyresult,result],axis=0)\n",
    "Spotifyresult"
   ]
  }
 ],
 "metadata": {
  "colab": {
   "provenance": []
  },
  "kernelspec": {
   "display_name": "Python 3 (ipykernel)",
   "language": "python",
   "name": "python3"
  },
  "language_info": {
   "codemirror_mode": {
    "name": "ipython",
    "version": 3
   },
   "file_extension": ".py",
   "mimetype": "text/x-python",
   "name": "python",
   "nbconvert_exporter": "python",
   "pygments_lexer": "ipython3",
   "version": "3.9.13"
  },
  "vscode": {
   "interpreter": {
    "hash": "e246d2215c418239c9316a1ebf2d8abb44dc50b2e5b0e29defd87143398aa387"
   }
  }
 },
 "nbformat": 4,
 "nbformat_minor": 1
}
